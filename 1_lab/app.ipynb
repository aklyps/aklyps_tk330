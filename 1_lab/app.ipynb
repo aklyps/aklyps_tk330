{
  "metadata": {
    "kernelspec": {
      "name": "python",
      "display_name": "Python (Pyodide)",
      "language": "python"
    },
    "language_info": {
      "codemirror_mode": {
        "name": "python",
        "version": 3
      },
      "file_extension": ".py",
      "mimetype": "text/x-python",
      "name": "python",
      "nbconvert_exporter": "python",
      "pygments_lexer": "ipython3",
      "version": "3.8"
    }
  },
  "nbformat_minor": 4,
  "nbformat": 4,
  "cells": [
    {
      "cell_type": "markdown",
      "source": "### Програма",
      "metadata": {}
    },
    {
      "cell_type": "code",
      "source": "from datetime import datetime # імпортуємо бібліотеки\nname = \"Dmytro\" # встановлюємо змінні\nlocation = \"Lviv\"\n\nprint(f\"{name} start programming at {datetime.now()}. {location} is the best city!\") # виводимо значення",
      "metadata": {
        "trusted": true
      },
      "outputs": [
        {
          "name": "stdout",
          "text": "Dmytro start programming at 2024-01-19 15:36:40.225000. Lviv is the best city!\n",
          "output_type": "stream"
        }
      ],
      "execution_count": 2
    },
    {
      "cell_type": "markdown",
      "source": "### Програма від ChatGPT",
      "metadata": {}
    },
    {
      "cell_type": "code",
      "source": "# Setting the values of two numbers\nnumber1 = 5\nnumber2 = 7\n\n# Calculating the sum\nsum_result = number1 + number2\n\n# Printing the result\nprint(f\"The sum of {number1} and {number2} is {sum_result}.\")\n",
      "metadata": {
        "trusted": true
      },
      "outputs": [
        {
          "name": "stdout",
          "text": "The sum of 5 and 7 is 12.\n",
          "output_type": "stream"
        }
      ],
      "execution_count": 3
    }
  ]
}