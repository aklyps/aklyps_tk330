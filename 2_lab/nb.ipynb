{
  "cells": [
    {
      "cell_type": "markdown",
      "metadata": {},
      "source": [
        "### Основи роботи з Python"
      ]
    },
    {
      "cell_type": "markdown",
      "metadata": {},
      "source": [
        "#### Основні типи даних"
      ]
    },
    {
      "cell_type": "code",
      "execution_count": null,
      "metadata": {
        "trusted": true
      },
      "outputs": [],
      "source": [
        "# Рядок (string)\n",
        "text_variable = \"Привіт, світ!\"\n",
        "\n",
        "# Ціле число (integer)\n",
        "number_variable = 42\n",
        "\n",
        "# Список (list)\n",
        "list_variable = [\"яблуко\", \"груша\", \"апельсин\"]\n",
        "\n",
        "# Словник (dictionary)\n",
        "dict_variable = {\"один\": 1, \"два\": 2, \"три\": 3}\n",
        "\n",
        "# Кортеж (tuple)\n",
        "tuple_variable = (10, 20, 30)\n",
        "\n",
        "# Множина (set)\n",
        "set_variable = {1, 2, 3}\n"
      ]
    },
    {
      "cell_type": "markdown",
      "metadata": {},
      "source": [
        "#### Вбудовані константи"
      ]
    },
    {
      "cell_type": "code",
      "execution_count": 1,
      "metadata": {
        "trusted": true
      },
      "outputs": [
        {
          "name": "stdout",
          "output_type": "stream",
          "text": [
            "Перша константа: True\n",
            "Друга константа: False\n"
          ]
        }
      ],
      "source": [
        "# True та False - булеві константи\n",
        "print(\"Перша константа:\", True)\n",
        "print(\"Друга константа:\", False)\n"
      ]
    },
    {
      "cell_type": "markdown",
      "metadata": {},
      "source": [
        "#### Вбудовані функції"
      ]
    },
    {
      "cell_type": "code",
      "execution_count": 2,
      "metadata": {
        "trusted": true
      },
      "outputs": [
        {
          "name": "stdout",
          "output_type": "stream",
          "text": [
            "Абсолютне значення -12.5 є рівним 12.5\n",
            "Абсолютне значення 12.5 є рівним 12.5\n"
          ]
        }
      ],
      "source": [
        "# abs - функція для отримання абсолютного значення\n",
        "print(\"Абсолютне значення -12.5 є рівним\", abs(-12.5))\n",
        "print(\"Абсолютне значення 12.5 є рівним\", abs(12.5))\n"
      ]
    },
    {
      "cell_type": "markdown",
      "metadata": {},
      "source": [
        "#### Цикли"
      ]
    },
    {
      "cell_type": "code",
      "execution_count": 3,
      "metadata": {
        "trusted": true
      },
      "outputs": [
        {
          "name": "stdout",
          "output_type": "stream",
          "text": [
            "Смачного яблуко!\n",
            "Смачного груша!\n",
            "Смачного апельсин!\n"
          ]
        }
      ],
      "source": [
        "# Цикл for для виведення кожного елемента спискуe\n",
        "fruits = [\"яблуко\", \"груша\", \"апельсин\"]\n",
        "for fruit in fruits:\n",
        "    print(f\"Смачного {fruit}!\")\n"
      ]
    },
    {
      "cell_type": "markdown",
      "metadata": {},
      "source": [
        "#### Розгалуження"
      ]
    },
    {
      "cell_type": "code",
      "execution_count": 5,
      "metadata": {
        "trusted": true
      },
      "outputs": [
        {
          "name": "stdout",
          "output_type": "stream",
          "text": [
            "Погода сьогодні гарна.\n"
          ]
        }
      ],
      "source": [
        "# Розгалуження if-else\n",
        "is_sunny = True\n",
        "weather = \"гарна\" if is_sunny else \"погана\"\n",
        "print(f\"Погода сьогодні {weather}.\")\n"
      ]
    },
    {
      "cell_type": "markdown",
      "metadata": {},
      "source": [
        "#### Конструкція try->except->finally:"
      ]
    },
    {
      "cell_type": "code",
      "execution_count": 6,
      "metadata": {
        "trusted": true
      },
      "outputs": [
        {
          "name": "stdout",
          "output_type": "stream",
          "text": [
            "Помилка: division by zero\n",
            "Все одно виконається цей блок!\n"
          ]
        }
      ],
      "source": [
        "# Приклад з помилкою (ділення на нуль)\n",
        "divisor = 0\n",
        "try:\n",
        "    result = 10 / divisor\n",
        "except ZeroDivisionError as e:\n",
        "    print(f\"Помилка: {e}\")\n",
        "finally:\n",
        "    print(\"Все одно виконається цей блок!\")\n"
      ]
    },
    {
      "cell_type": "markdown",
      "metadata": {},
      "source": [
        "#### Лямбда"
      ]
    },
    {
      "cell_type": "code",
      "execution_count": 7,
      "metadata": {
        "trusted": true
      },
      "outputs": [
        {
          "name": "stdout",
          "output_type": "stream",
          "text": [
            "Квадрат числа 5 дорівнює 25\n"
          ]
        }
      ],
      "source": [
        "# Лямбда-вираз для обчислення квадрату числа\n",
        "square = lambda x: x ** 2\n",
        "print(\"Квадрат числа 5 дорівнює\", square(5))\n"
      ]
    },
    {
      "cell_type": "markdown",
      "metadata": {},
      "source": [
        "### Основи Python від ChatGPT"
      ]
    },
    {
      "cell_type": "code",
      "execution_count": 8,
      "metadata": {
        "trusted": true
      },
      "outputs": [
        {
          "name": "stdout",
          "output_type": "stream",
          "text": [
            "Привіт, світ!\n",
            "Змінна ціле додатня\n",
            "Ітерація номер 0\n",
            "Ітерація номер 1\n",
            "Ітерація номер 2\n",
            "Ітерація номер 3\n",
            "Ітерація номер 4\n",
            "Результат додавання: 5\n"
          ]
        }
      ],
      "source": [
        "# Вивід тексту на екран\n",
        "print(\"Привіт, світ!\")\n",
        "\n",
        "# Змінні та їхні типи\n",
        "змінна_ціле = 42  # Ціле число\n",
        "змінна_дробове = 3.14  # Дробове число\n",
        "змінна_рядок = \"Програмуємо на Python\"  # Рядок\n",
        "\n",
        "# Операції\n",
        "сума = змінна_ціле + змінна_дробове\n",
        "різниця = змінна_ціле - змінна_дробове\n",
        "продукт = змінна_ціле * змінна_дробове\n",
        "частка = змінна_ціле / змінна_дробове\n",
        "\n",
        "# Умови\n",
        "if змінна_ціле > 0:\n",
        "    print(\"Змінна ціле додатня\")\n",
        "elif змінна_ціле == 0:\n",
        "    print(\"Змінна ціле дорівнює нулю\")\n",
        "else:\n",
        "    print(\"Змінна ціле від'ємна\")\n",
        "\n",
        "# Цикли\n",
        "for i in range(5):\n",
        "    print(\"Ітерація номер\", i)\n",
        "\n",
        "# Функції\n",
        "def додавання(a, b):\n",
        "    return a + b\n",
        "\n",
        "результат_додавання = додавання(2, 3)\n",
        "print(\"Результат додавання:\", результат_додавання)\n"
      ]
    },
    {
      "cell_type": "code",
      "execution_count": null,
      "metadata": {
        "trusted": true
      },
      "outputs": [],
      "source": []
    }
  ],
  "metadata": {
    "kernelspec": {
      "display_name": "Python (Pyodide)",
      "language": "python",
      "name": "python"
    },
    "language_info": {
      "codemirror_mode": {
        "name": "python",
        "version": 3
      },
      "file_extension": ".py",
      "mimetype": "text/x-python",
      "name": "python",
      "nbconvert_exporter": "python",
      "pygments_lexer": "ipython3",
      "version": "3.8"
    }
  },
  "nbformat": 4,
  "nbformat_minor": 4
}
