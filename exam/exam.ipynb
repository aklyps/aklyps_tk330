{
  "metadata": {
    "kernelspec": {
      "name": "python",
      "display_name": "Python (Pyodide)",
      "language": "python"
    },
    "language_info": {
      "codemirror_mode": {
        "name": "python",
        "version": 3
      },
      "file_extension": ".py",
      "mimetype": "text/x-python",
      "name": "python",
      "nbconvert_exporter": "python",
      "pygments_lexer": "ipython3",
      "version": "3.8"
    }
  },
  "nbformat_minor": 4,
  "nbformat": 4,
  "cells": [
    {
      "cell_type": "code",
      "source": "class User:\n    def __init__(self, name):\n        self.name = name\n\n    @property\n    def full_info(self):\n        email = f\"{self.name.lower()}@example.com\"\n        return f\"{self.name} ({email})\"\n\nuser_object = User(\"Дмитро\")\n\nprint(user_object.full_info)\n",
      "metadata": {
        "trusted": true
      },
      "outputs": [
        {
          "name": "stdout",
          "text": "Дмитро (дмитро@example.com)\n",
          "output_type": "stream"
        }
      ],
      "execution_count": 1
    }
  ]
}